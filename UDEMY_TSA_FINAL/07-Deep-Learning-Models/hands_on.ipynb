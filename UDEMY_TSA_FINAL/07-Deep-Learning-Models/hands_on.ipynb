{
 "cells": [
  {
   "cell_type": "code",
   "execution_count": 1,
   "metadata": {},
   "outputs": [],
   "source": [
    "import keras"
   ]
  },
  {
   "cell_type": "code",
   "execution_count": 2,
   "metadata": {},
   "outputs": [],
   "source": [
    "import matplotlib.pyplot as plt\n",
    "import pandas as pd\n",
    "import numpy as np"
   ]
  },
  {
   "cell_type": "code",
   "execution_count": 3,
   "metadata": {},
   "outputs": [],
   "source": [
    "## y = mx + b + noise"
   ]
  },
  {
   "cell_type": "code",
   "execution_count": 4,
   "metadata": {},
   "outputs": [],
   "source": [
    "m = 2\n",
    "b = 3\n",
    "x = np.linspace(0,50,100)"
   ]
  },
  {
   "cell_type": "code",
   "execution_count": 5,
   "metadata": {},
   "outputs": [],
   "source": [
    "np.random.seed(101)\n",
    "noise = np.random.normal(loc=0, scale=4, size=len(x))"
   ]
  },
  {
   "cell_type": "code",
   "execution_count": 6,
   "metadata": {},
   "outputs": [],
   "source": [
    "y = 2*x + b + noise"
   ]
  },
  {
   "cell_type": "code",
   "execution_count": 7,
   "metadata": {},
   "outputs": [
    {
     "data": {
      "text/plain": [
       "array([ 13.82739936,   6.52263185,   8.65207981,   8.04560605,\n",
       "         9.64487583,   6.77323287,   5.66829813,  12.49456847,\n",
       "         3.0081351 ,  15.05139732,  15.21626408,  11.75510898,\n",
       "        15.87599336,  13.09582491,  13.40846528,  21.97174119,\n",
       "        19.92479345,  28.08674647,  31.6056873 ,  24.92595473,\n",
       "        24.412682  ,  30.98701291,  18.3978785 ,  21.59584557,\n",
       "        26.70306136,  29.81463662,  29.93024481,  31.01073471,\n",
       "        34.51365194,  32.58476799,  35.85817836,  35.63171651,\n",
       "        33.33481623,  33.31705453,  33.56980873,  40.29254194,\n",
       "        38.8965431 ,  47.98075655,  42.33634622,  50.38054854,\n",
       "        39.4309864 ,  45.20133943,  40.87766405,  46.43580935,\n",
       "        51.54838105,  47.82815384,  49.33832989,  53.07405081,\n",
       "        60.10423426,  50.05391407,  50.48374915,  53.1294775 ,\n",
       "        56.11335961,  54.61756138,  59.78053217,  62.65479667,\n",
       "        55.86215953,  68.02721413,  57.05058994,  65.03787123,\n",
       "        65.15018185,  72.95223574,  64.12018793,  67.55770901,\n",
       "        70.37130182,  72.79706596,  69.54202474,  78.43649692,\n",
       "        67.66612102,  69.72981088,  74.45556879,  71.78579113,\n",
       "        70.19559233,  82.66735572,  81.59330737,  70.19272659,\n",
       "        83.73797058,  85.54674033,  77.60076064,  87.96903811,\n",
       "        77.93802473,  82.84180038,  85.17814389,  88.78161879,\n",
       "        89.41844009,  89.7445486 ,  86.44790271,  97.04674951,\n",
       "        94.55416617,  90.7460514 ,  91.63476547, 100.54854491,\n",
       "        98.49651498,  93.31899433,  96.38486844, 103.0727686 ,\n",
       "        92.07927656,  97.51225784, 104.87304938,  98.10767185])"
      ]
     },
     "execution_count": 7,
     "metadata": {},
     "output_type": "execute_result"
    }
   ],
   "source": [
    "y"
   ]
  },
  {
   "cell_type": "code",
   "execution_count": 8,
   "metadata": {},
   "outputs": [
    {
     "data": {
      "text/plain": [
       "[<matplotlib.lines.Line2D at 0x2522658abe0>]"
      ]
     },
     "execution_count": 8,
     "metadata": {},
     "output_type": "execute_result"
    },
    {
     "data": {
      "image/png": "[encoded data removed]",
      "text/plain": [
       "<Figure size 640x480 with 1 Axes>"
      ]
     },
     "metadata": {},
     "output_type": "display_data"
    }
   ],
   "source": [
    "plt.plot(x,y,'*')"
   ]
  },
  {
   "cell_type": "code",
   "execution_count": 9,
   "metadata": {},
   "outputs": [],
   "source": [
    "from keras.models import Sequential"
   ]
  },
  {
   "cell_type": "code",
   "execution_count": 10,
   "metadata": {},
   "outputs": [],
   "source": [
    "from keras.layers import Dense"
   ]
  },
  {
   "cell_type": "code",
   "execution_count": 11,
   "metadata": {},
   "outputs": [],
   "source": [
    "model = Sequential()\n",
    "\n",
    "model.add(Dense(4, input_dim=1, activation='relu'))\n",
    "\n",
    "model.add(Dense(4,activation='relu'))\n",
    "\n",
    "model.add(Dense(1,activation='linear'))\n",
    "\n",
    "model.compile(loss='mse', optimizer='adam')"
   ]
  },
  {
   "cell_type": "code",
   "execution_count": 12,
   "metadata": {},
   "outputs": [
    {
     "name": "stdout",
     "output_type": "stream",
     "text": [
      "Model: \"sequential\"\n",
      "_________________________________________________________________\n",
      " Layer (type)                Output Shape              Param #   \n",
      "=================================================================\n",
      " dense (Dense)               (None, 4)                 8         \n",
      "                                                                 \n",
      " dense_1 (Dense)             (None, 4)                 20        \n",
      "                                                                 \n",
      " dense_2 (Dense)             (None, 1)                 5         \n",
      "                                                                 \n",
      "=================================================================\n",
      "Total params: 33\n",
      "Trainable params: 33\n",
      "Non-trainable params: 0\n",
      "_________________________________________________________________\n"
     ]
    }
   ],
   "source": [
    "model.summary()"
   ]
  },
  {
   "cell_type": "code",
   "execution_count": 13,
   "metadata": {},
   "outputs": [
    {
     "name": "stdout",
     "output_type": "stream",
     "text": [
      "Epoch 1/200\n",
      "4/4 [==============================] - 1s 8ms/step - loss: 5168.0454\n",
      "Epoch 2/200\n",
      "4/4 [==============================] - 0s 2ms/step - loss: 5140.7285\n",
      "Epoch 3/200\n",
      "4/4 [==============================] - 0s 2ms/step - loss: 5114.4766\n",
      "Epoch 4/200\n",
      "4/4 [==============================] - 0s 2ms/step - loss: 5089.6021\n",
      "Epoch 5/200\n",
      "4/4 [==============================] - 0s 2ms/step - loss: 5064.8735\n",
      "Epoch 6/200\n",
      "4/4 [==============================] - 0s 2ms/step - loss: 5041.3364\n",
      "Epoch 7/200\n",
      "4/4 [==============================] - 0s 2ms/step - loss: 5018.1797\n",
      "Epoch 8/200\n",
      "4/4 [==============================] - 0s 2ms/step - loss: 4994.5698\n",
      "Epoch 9/200\n",
      "4/4 [==============================] - 0s 3ms/step - loss: 4972.5107\n",
      "Epoch 10/200\n",
      "4/4 [==============================] - 0s 2ms/step - loss: 4950.3989\n",
      "Epoch 11/200\n",
      "4/4 [==============================] - 0s 2ms/step - loss: 4927.6108\n",
      "Epoch 12/200\n",
      "4/4 [==============================] - 0s 2ms/step - loss: 4906.4995\n",
      "Epoch 13/200\n",
      "4/4 [==============================] - 0s 2ms/step - loss: 4885.5967\n",
      "Epoch 14/200\n",
      "4/4 [==============================] - 0s 2ms/step - loss: 4863.4302\n",
      "Epoch 15/200\n",
      "4/4 [==============================] - 0s 2ms/step - loss: 4843.1416\n",
      "Epoch 16/200\n",
      "4/4 [==============================] - 0s 2ms/step - loss: 4823.1230\n",
      "Epoch 17/200\n",
      "4/4 [==============================] - 0s 2ms/step - loss: 4803.8501\n",
      "Epoch 18/200\n",
      "4/4 [==============================] - 0s 2ms/step - loss: 4784.2476\n",
      "Epoch 19/200\n",
      "4/4 [==============================] - 0s 2ms/step - loss: 4765.0552\n",
      "Epoch 20/200\n",
      "4/4 [==============================] - 0s 2ms/step - loss: 4745.8091\n",
      "Epoch 21/200\n",
      "4/4 [==============================] - 0s 2ms/step - loss: 4727.1548\n",
      "Epoch 22/200\n",
      "4/4 [==============================] - 0s 3ms/step - loss: 4708.4966\n",
      "Epoch 23/200\n",
      "4/4 [==============================] - 0s 2ms/step - loss: 4690.8252\n",
      "Epoch 24/200\n",
      "4/4 [==============================] - 0s 2ms/step - loss: 4671.8643\n",
      "Epoch 25/200\n",
      "4/4 [==============================] - 0s 2ms/step - loss: 4653.8398\n",
      "Epoch 26/200\n",
      "4/4 [==============================] - 0s 2ms/step - loss: 4635.9751\n",
      "Epoch 27/200\n",
      "4/4 [==============================] - 0s 3ms/step - loss: 4618.3774\n",
      "Epoch 28/200\n",
      "4/4 [==============================] - 0s 2ms/step - loss: 4601.8340\n",
      "Epoch 29/200\n",
      "4/4 [==============================] - 0s 2ms/step - loss: 4585.3359\n",
      "Epoch 30/200\n",
      "4/4 [==============================] - 0s 2ms/step - loss: 4568.0923\n",
      "Epoch 31/200\n",
      "4/4 [==============================] - 0s 2ms/step - loss: 4553.2861\n",
      "Epoch 32/200\n",
      "4/4 [==============================] - 0s 2ms/step - loss: 4538.5410\n",
      "Epoch 33/200\n",
      "4/4 [==============================] - 0s 2ms/step - loss: 4523.9390\n",
      "Epoch 34/200\n",
      "4/4 [==============================] - 0s 2ms/step - loss: 4509.9814\n",
      "Epoch 35/200\n",
      "4/4 [==============================] - 0s 3ms/step - loss: 4495.9834\n",
      "Epoch 36/200\n",
      "4/4 [==============================] - 0s 2ms/step - loss: 4481.6245\n",
      "Epoch 37/200\n",
      "4/4 [==============================] - 0s 2ms/step - loss: 4468.6147\n",
      "Epoch 38/200\n",
      "4/4 [==============================] - 0s 2ms/step - loss: 4454.9717\n",
      "Epoch 39/200\n",
      "4/4 [==============================] - 0s 2ms/step - loss: 4441.9580\n",
      "Epoch 40/200\n",
      "4/4 [==============================] - 0s 3ms/step - loss: 4428.8789\n",
      "Epoch 41/200\n",
      "4/4 [==============================] - 0s 2ms/step - loss: 4415.9673\n",
      "Epoch 42/200\n",
      "4/4 [==============================] - 0s 2ms/step - loss: 4403.4136\n",
      "Epoch 43/200\n",
      "4/4 [==============================] - 0s 2ms/step - loss: 4391.1318\n",
      "Epoch 44/200\n",
      "4/4 [==============================] - 0s 2ms/step - loss: 4379.1401\n",
      "Epoch 45/200\n",
      "4/4 [==============================] - 0s 2ms/step - loss: 4367.1377\n",
      "Epoch 46/200\n",
      "4/4 [==============================] - 0s 2ms/step - loss: 4355.4614\n",
      "Epoch 47/200\n",
      "4/4 [==============================] - 0s 2ms/step - loss: 4344.7158\n",
      "Epoch 48/200\n",
      "4/4 [==============================] - 0s 2ms/step - loss: 4333.9111\n",
      "Epoch 49/200\n",
      "4/4 [==============================] - 0s 2ms/step - loss: 4322.8457\n",
      "Epoch 50/200\n",
      "4/4 [==============================] - 0s 2ms/step - loss: 4312.7583\n",
      "Epoch 51/200\n",
      "4/4 [==============================] - 0s 2ms/step - loss: 4302.6157\n",
      "Epoch 52/200\n",
      "4/4 [==============================] - 0s 2ms/step - loss: 4292.2090\n",
      "Epoch 53/200\n",
      "4/4 [==============================] - 0s 2ms/step - loss: 4281.8066\n",
      "Epoch 54/200\n",
      "4/4 [==============================] - 0s 1ms/step - loss: 4271.6147\n",
      "Epoch 55/200\n",
      "4/4 [==============================] - 0s 2ms/step - loss: 4262.0127\n",
      "Epoch 56/200\n",
      "4/4 [==============================] - 0s 2ms/step - loss: 4251.5977\n",
      "Epoch 57/200\n",
      "4/4 [==============================] - 0s 2ms/step - loss: 4242.4268\n",
      "Epoch 58/200\n",
      "4/4 [==============================] - 0s 2ms/step - loss: 4233.5015\n",
      "Epoch 59/200\n",
      "4/4 [==============================] - 0s 2ms/step - loss: 4224.4424\n",
      "Epoch 60/200\n",
      "4/4 [==============================] - 0s 2ms/step - loss: 4215.2446\n",
      "Epoch 61/200\n",
      "4/4 [==============================] - 0s 2ms/step - loss: 4206.7202\n",
      "Epoch 62/200\n",
      "4/4 [==============================] - 0s 2ms/step - loss: 4197.7148\n",
      "Epoch 63/200\n",
      "4/4 [==============================] - 0s 3ms/step - loss: 4189.0029\n",
      "Epoch 64/200\n",
      "4/4 [==============================] - 0s 2ms/step - loss: 4180.6533\n",
      "Epoch 65/200\n",
      "4/4 [==============================] - 0s 2ms/step - loss: 4172.0127\n",
      "Epoch 66/200\n",
      "4/4 [==============================] - 0s 2ms/step - loss: 4163.6055\n",
      "Epoch 67/200\n",
      "4/4 [==============================] - 0s 2ms/step - loss: 4155.5742\n",
      "Epoch 68/200\n",
      "4/4 [==============================] - 0s 2ms/step - loss: 4147.4829\n",
      "Epoch 69/200\n",
      "4/4 [==============================] - 0s 2ms/step - loss: 4140.2749\n",
      "Epoch 70/200\n",
      "4/4 [==============================] - 0s 2ms/step - loss: 4132.6758\n",
      "Epoch 71/200\n",
      "4/4 [==============================] - 0s 2ms/step - loss: 4125.2856\n",
      "Epoch 72/200\n",
      "4/4 [==============================] - 0s 2ms/step - loss: 4117.6035\n",
      "Epoch 73/200\n",
      "4/4 [==============================] - 0s 2ms/step - loss: 4110.1870\n",
      "Epoch 74/200\n",
      "4/4 [==============================] - 0s 2ms/step - loss: 4103.0518\n",
      "Epoch 75/200\n",
      "4/4 [==============================] - 0s 2ms/step - loss: 4095.5781\n",
      "Epoch 76/200\n",
      "4/4 [==============================] - 0s 2ms/step - loss: 4088.3772\n",
      "Epoch 77/200\n",
      "4/4 [==============================] - 0s 8ms/step - loss: 4081.1562\n",
      "Epoch 78/200\n",
      "4/4 [==============================] - 0s 3ms/step - loss: 4074.2810\n",
      "Epoch 79/200\n",
      "4/4 [==============================] - 0s 3ms/step - loss: 4067.2485\n",
      "Epoch 80/200\n",
      "4/4 [==============================] - 0s 3ms/step - loss: 4060.9531\n",
      "Epoch 81/200\n",
      "4/4 [==============================] - 0s 5ms/step - loss: 4054.8235\n",
      "Epoch 82/200\n",
      "4/4 [==============================] - 0s 2ms/step - loss: 4048.3325\n",
      "Epoch 83/200\n",
      "4/4 [==============================] - 0s 2ms/step - loss: 4042.1221\n",
      "Epoch 84/200\n",
      "4/4 [==============================] - 0s 2ms/step - loss: 4036.1335\n",
      "Epoch 85/200\n",
      "4/4 [==============================] - 0s 2ms/step - loss: 4029.5071\n",
      "Epoch 86/200\n",
      "4/4 [==============================] - 0s 2ms/step - loss: 4023.2849\n",
      "Epoch 87/200\n",
      "4/4 [==============================] - 0s 2ms/step - loss: 4017.0637\n",
      "Epoch 88/200\n",
      "4/4 [==============================] - 0s 2ms/step - loss: 4011.0662\n",
      "Epoch 89/200\n",
      "4/4 [==============================] - 0s 2ms/step - loss: 4005.5967\n",
      "Epoch 90/200\n",
      "4/4 [==============================] - 0s 2ms/step - loss: 3999.9126\n",
      "Epoch 91/200\n",
      "4/4 [==============================] - 0s 2ms/step - loss: 3994.6309\n",
      "Epoch 92/200\n",
      "4/4 [==============================] - 0s 2ms/step - loss: 3989.2615\n",
      "Epoch 93/200\n",
      "4/4 [==============================] - 0s 2ms/step - loss: 3983.6689\n",
      "Epoch 94/200\n",
      "4/4 [==============================] - 0s 3ms/step - loss: 3978.2646\n",
      "Epoch 95/200\n",
      "4/4 [==============================] - 0s 2ms/step - loss: 3972.9641\n",
      "Epoch 96/200\n",
      "4/4 [==============================] - 0s 2ms/step - loss: 3967.7451\n",
      "Epoch 97/200\n",
      "4/4 [==============================] - 0s 2ms/step - loss: 3962.1587\n",
      "Epoch 98/200\n",
      "4/4 [==============================] - 0s 2ms/step - loss: 3956.9775\n",
      "Epoch 99/200\n",
      "4/4 [==============================] - 0s 2ms/step - loss: 3951.8281\n",
      "Epoch 100/200\n",
      "4/4 [==============================] - 0s 2ms/step - loss: 3947.0337\n",
      "Epoch 101/200\n",
      "4/4 [==============================] - 0s 2ms/step - loss: 3942.5461\n",
      "Epoch 102/200\n",
      "4/4 [==============================] - 0s 2ms/step - loss: 3938.0044\n",
      "Epoch 103/200\n",
      "4/4 [==============================] - 0s 2ms/step - loss: 3933.4751\n",
      "Epoch 104/200\n",
      "4/4 [==============================] - 0s 2ms/step - loss: 3928.9612\n",
      "Epoch 105/200\n",
      "4/4 [==============================] - 0s 2ms/step - loss: 3924.5757\n",
      "Epoch 106/200\n",
      "4/4 [==============================] - 0s 2ms/step - loss: 3920.4207\n",
      "Epoch 107/200\n",
      "4/4 [==============================] - 0s 2ms/step - loss: 3916.2471\n",
      "Epoch 108/200\n",
      "4/4 [==============================] - 0s 2ms/step - loss: 3911.6587\n",
      "Epoch 109/200\n",
      "4/4 [==============================] - 0s 2ms/step - loss: 3907.2976\n",
      "Epoch 110/200\n",
      "4/4 [==============================] - 0s 2ms/step - loss: 3902.9111\n",
      "Epoch 111/200\n",
      "4/4 [==============================] - 0s 2ms/step - loss: 3898.5525\n",
      "Epoch 112/200\n",
      "4/4 [==============================] - 0s 2ms/step - loss: 3894.5093\n",
      "Epoch 113/200\n",
      "4/4 [==============================] - 0s 2ms/step - loss: 3890.5735\n",
      "Epoch 114/200\n",
      "4/4 [==============================] - 0s 2ms/step - loss: 3886.5149\n",
      "Epoch 115/200\n",
      "4/4 [==============================] - 0s 2ms/step - loss: 3882.7451\n",
      "Epoch 116/200\n",
      "4/4 [==============================] - 0s 2ms/step - loss: 3879.0188\n",
      "Epoch 117/200\n",
      "4/4 [==============================] - 0s 2ms/step - loss: 3875.4443\n",
      "Epoch 118/200\n",
      "4/4 [==============================] - 0s 2ms/step - loss: 3871.7898\n",
      "Epoch 119/200\n",
      "4/4 [==============================] - 0s 2ms/step - loss: 3868.1628\n",
      "Epoch 120/200\n",
      "4/4 [==============================] - 0s 2ms/step - loss: 3864.2937\n",
      "Epoch 121/200\n",
      "4/4 [==============================] - 0s 2ms/step - loss: 3860.4573\n",
      "Epoch 122/200\n",
      "4/4 [==============================] - 0s 2ms/step - loss: 3856.6001\n",
      "Epoch 123/200\n",
      "4/4 [==============================] - 0s 2ms/step - loss: 3853.1729\n",
      "Epoch 124/200\n",
      "4/4 [==============================] - 0s 2ms/step - loss: 3849.4634\n",
      "Epoch 125/200\n",
      "4/4 [==============================] - 0s 2ms/step - loss: 3845.9900\n",
      "Epoch 126/200\n",
      "4/4 [==============================] - 0s 3ms/step - loss: 3842.4165\n",
      "Epoch 127/200\n",
      "4/4 [==============================] - 0s 2ms/step - loss: 3839.1038\n",
      "Epoch 128/200\n",
      "4/4 [==============================] - 0s 2ms/step - loss: 3835.7710\n",
      "Epoch 129/200\n",
      "4/4 [==============================] - 0s 2ms/step - loss: 3832.4153\n",
      "Epoch 130/200\n",
      "4/4 [==============================] - 0s 2ms/step - loss: 3829.2581\n",
      "Epoch 131/200\n",
      "4/4 [==============================] - 0s 3ms/step - loss: 3826.1204\n",
      "Epoch 132/200\n",
      "4/4 [==============================] - 0s 2ms/step - loss: 3823.1899\n",
      "Epoch 133/200\n",
      "4/4 [==============================] - 0s 2ms/step - loss: 3820.3010\n",
      "Epoch 134/200\n",
      "4/4 [==============================] - 0s 3ms/step - loss: 3817.4048\n",
      "Epoch 135/200\n",
      "4/4 [==============================] - 0s 2ms/step - loss: 3814.3982\n",
      "Epoch 136/200\n",
      "4/4 [==============================] - 0s 2ms/step - loss: 3811.4368\n",
      "Epoch 137/200\n",
      "4/4 [==============================] - 0s 3ms/step - loss: 3808.3828\n",
      "Epoch 138/200\n",
      "4/4 [==============================] - 0s 2ms/step - loss: 3805.5908\n",
      "Epoch 139/200\n",
      "4/4 [==============================] - 0s 2ms/step - loss: 3802.8516\n",
      "Epoch 140/200\n",
      "4/4 [==============================] - 0s 2ms/step - loss: 3800.0159\n",
      "Epoch 141/200\n",
      "4/4 [==============================] - 0s 2ms/step - loss: 3797.2278\n",
      "Epoch 142/200\n",
      "4/4 [==============================] - 0s 2ms/step - loss: 3794.7085\n",
      "Epoch 143/200\n",
      "4/4 [==============================] - 0s 2ms/step - loss: 3792.1008\n",
      "Epoch 144/200\n",
      "4/4 [==============================] - 0s 2ms/step - loss: 3789.6526\n",
      "Epoch 145/200\n",
      "4/4 [==============================] - 0s 3ms/step - loss: 3787.1719\n",
      "Epoch 146/200\n",
      "4/4 [==============================] - 0s 2ms/step - loss: 3784.5459\n",
      "Epoch 147/200\n",
      "4/4 [==============================] - 0s 2ms/step - loss: 3781.9873\n",
      "Epoch 148/200\n",
      "4/4 [==============================] - 0s 2ms/step - loss: 3779.4084\n",
      "Epoch 149/200\n",
      "4/4 [==============================] - 0s 2ms/step - loss: 3776.9543\n",
      "Epoch 150/200\n",
      "4/4 [==============================] - 0s 2ms/step - loss: 3774.4465\n",
      "Epoch 151/200\n",
      "4/4 [==============================] - 0s 2ms/step - loss: 3772.2354\n",
      "Epoch 152/200\n",
      "4/4 [==============================] - 0s 2ms/step - loss: 3769.9978\n",
      "Epoch 153/200\n",
      "4/4 [==============================] - 0s 3ms/step - loss: 3767.7336\n",
      "Epoch 154/200\n",
      "4/4 [==============================] - 0s 2ms/step - loss: 3765.7075\n",
      "Epoch 155/200\n",
      "4/4 [==============================] - 0s 2ms/step - loss: 3763.5076\n",
      "Epoch 156/200\n",
      "4/4 [==============================] - 0s 2ms/step - loss: 3761.3665\n",
      "Epoch 157/200\n",
      "4/4 [==============================] - 0s 2ms/step - loss: 3759.2188\n",
      "Epoch 158/200\n",
      "4/4 [==============================] - 0s 3ms/step - loss: 3757.0894\n",
      "Epoch 159/200\n",
      "4/4 [==============================] - 0s 2ms/step - loss: 3754.9397\n",
      "Epoch 160/200\n",
      "4/4 [==============================] - 0s 2ms/step - loss: 3752.8997\n",
      "Epoch 161/200\n",
      "4/4 [==============================] - 0s 2ms/step - loss: 3750.8931\n",
      "Epoch 162/200\n",
      "4/4 [==============================] - 0s 2ms/step - loss: 3748.8013\n",
      "Epoch 163/200\n",
      "4/4 [==============================] - 0s 2ms/step - loss: 3746.8359\n",
      "Epoch 164/200\n",
      "4/4 [==============================] - 0s 2ms/step - loss: 3744.8196\n",
      "Epoch 165/200\n",
      "4/4 [==============================] - 0s 2ms/step - loss: 3742.7598\n",
      "Epoch 166/200\n",
      "4/4 [==============================] - 0s 2ms/step - loss: 3740.7834\n",
      "Epoch 167/200\n",
      "4/4 [==============================] - 0s 2ms/step - loss: 3738.8103\n",
      "Epoch 168/200\n",
      "4/4 [==============================] - 0s 2ms/step - loss: 3736.8179\n",
      "Epoch 169/200\n",
      "4/4 [==============================] - 0s 3ms/step - loss: 3734.8984\n",
      "Epoch 170/200\n",
      "4/4 [==============================] - 0s 2ms/step - loss: 3732.9441\n",
      "Epoch 171/200\n",
      "4/4 [==============================] - 0s 2ms/step - loss: 3731.2168\n",
      "Epoch 172/200\n",
      "4/4 [==============================] - 0s 2ms/step - loss: 3729.2927\n",
      "Epoch 173/200\n",
      "4/4 [==============================] - 0s 2ms/step - loss: 3727.4600\n",
      "Epoch 174/200\n",
      "4/4 [==============================] - 0s 2ms/step - loss: 3725.5981\n",
      "Epoch 175/200\n",
      "4/4 [==============================] - 0s 2ms/step - loss: 3723.8481\n",
      "Epoch 176/200\n",
      "4/4 [==============================] - 0s 2ms/step - loss: 3722.1204\n",
      "Epoch 177/200\n",
      "4/4 [==============================] - 0s 2ms/step - loss: 3720.4595\n",
      "Epoch 178/200\n",
      "4/4 [==============================] - 0s 2ms/step - loss: 3718.8281\n",
      "Epoch 179/200\n",
      "4/4 [==============================] - 0s 2ms/step - loss: 3717.1633\n",
      "Epoch 180/200\n",
      "4/4 [==============================] - 0s 2ms/step - loss: 3715.6150\n",
      "Epoch 181/200\n",
      "4/4 [==============================] - 0s 2ms/step - loss: 3713.9451\n",
      "Epoch 182/200\n",
      "4/4 [==============================] - 0s 3ms/step - loss: 3712.3044\n",
      "Epoch 183/200\n",
      "4/4 [==============================] - 0s 2ms/step - loss: 3710.5869\n",
      "Epoch 184/200\n",
      "4/4 [==============================] - 0s 2ms/step - loss: 3708.9207\n",
      "Epoch 185/200\n",
      "4/4 [==============================] - 0s 2ms/step - loss: 3707.3315\n",
      "Epoch 186/200\n",
      "4/4 [==============================] - 0s 2ms/step - loss: 3705.7322\n",
      "Epoch 187/200\n",
      "4/4 [==============================] - 0s 2ms/step - loss: 3704.1843\n",
      "Epoch 188/200\n",
      "4/4 [==============================] - 0s 2ms/step - loss: 3702.6775\n",
      "Epoch 189/200\n",
      "4/4 [==============================] - 0s 2ms/step - loss: 3701.1790\n",
      "Epoch 190/200\n",
      "4/4 [==============================] - 0s 3ms/step - loss: 3699.6809\n",
      "Epoch 191/200\n",
      "4/4 [==============================] - 0s 2ms/step - loss: 3698.1777\n",
      "Epoch 192/200\n",
      "4/4 [==============================] - 0s 2ms/step - loss: 3696.6694\n",
      "Epoch 193/200\n",
      "4/4 [==============================] - 0s 2ms/step - loss: 3695.2756\n",
      "Epoch 194/200\n",
      "4/4 [==============================] - 0s 2ms/step - loss: 3693.7981\n",
      "Epoch 195/200\n",
      "4/4 [==============================] - 0s 2ms/step - loss: 3692.3899\n",
      "Epoch 196/200\n",
      "4/4 [==============================] - 0s 2ms/step - loss: 3690.9285\n",
      "Epoch 197/200\n",
      "4/4 [==============================] - 0s 2ms/step - loss: 3689.5002\n",
      "Epoch 198/200\n",
      "4/4 [==============================] - 0s 2ms/step - loss: 3688.1238\n",
      "Epoch 199/200\n",
      "4/4 [==============================] - 0s 2ms/step - loss: 3686.7939\n",
      "Epoch 200/200\n",
      "4/4 [==============================] - 0s 2ms/step - loss: 3685.4543\n"
     ]
    },
    {
     "data": {
      "text/plain": [
       "<keras.callbacks.History at 0x2522883af98>"
      ]
     },
     "execution_count": 13,
     "metadata": {},
     "output_type": "execute_result"
    }
   ],
   "source": [
    "model.fit(x,y, epochs=200)"
   ]
  },
  {
   "cell_type": "code",
   "execution_count": 14,
   "metadata": {},
   "outputs": [
    {
     "data": {
      "text/plain": [
       "[5168.04541015625,\n",
       " 5140.728515625,\n",
       " 5114.4765625,\n",
       " 5089.60205078125,\n",
       " 5064.87353515625,\n",
       " 5041.33642578125,\n",
       " 5018.1796875,\n",
       " 4994.56982421875,\n",
       " 4972.5107421875,\n",
       " 4950.39892578125,\n",
       " 4927.61083984375,\n",
       " 4906.49951171875,\n",
       " 4885.5966796875,\n",
       " 4863.43017578125,\n",
       " 4843.1416015625,\n",
       " 4823.123046875,\n",
       " 4803.85009765625,\n",
       " 4784.24755859375,\n",
       " 4765.05517578125,\n",
       " 4745.80908203125,\n",
       " 4727.15478515625,\n",
       " 4708.49658203125,\n",
       " 4690.8251953125,\n",
       " 4671.8642578125,\n",
       " 4653.83984375,\n",
       " 4635.97509765625,\n",
       " 4618.37744140625,\n",
       " 4601.833984375,\n",
       " 4585.3359375,\n",
       " 4568.09228515625,\n",
       " 4553.2861328125,\n",
       " 4538.541015625,\n",
       " 4523.93896484375,\n",
       " 4509.9814453125,\n",
       " 4495.9833984375,\n",
       " 4481.62451171875,\n",
       " 4468.61474609375,\n",
       " 4454.9716796875,\n",
       " 4441.9580078125,\n",
       " 4428.87890625,\n",
       " 4415.96728515625,\n",
       " 4403.41357421875,\n",
       " 4391.1318359375,\n",
       " 4379.14013671875,\n",
       " 4367.1376953125,\n",
       " 4355.46142578125,\n",
       " 4344.7158203125,\n",
       " 4333.9111328125,\n",
       " 4322.845703125,\n",
       " 4312.75830078125,\n",
       " 4302.61572265625,\n",
       " 4292.208984375,\n",
       " 4281.806640625,\n",
       " 4271.61474609375,\n",
       " 4262.0126953125,\n",
       " 4251.59765625,\n",
       " 4242.4267578125,\n",
       " 4233.50146484375,\n",
       " 4224.4423828125,\n",
       " 4215.24462890625,\n",
       " 4206.72021484375,\n",
       " 4197.71484375,\n",
       " 4189.0029296875,\n",
       " 4180.6533203125,\n",
       " 4172.0126953125,\n",
       " 4163.60546875,\n",
       " 4155.57421875,\n",
       " 4147.48291015625,\n",
       " 4140.27490234375,\n",
       " 4132.67578125,\n",
       " 4125.28564453125,\n",
       " 4117.603515625,\n",
       " 4110.18701171875,\n",
       " 4103.0517578125,\n",
       " 4095.578125,\n",
       " 4088.377197265625,\n",
       " 4081.15625,\n",
       " 4074.281005859375,\n",
       " 4067.24853515625,\n",
       " 4060.953125,\n",
       " 4054.823486328125,\n",
       " 4048.33251953125,\n",
       " 4042.1220703125,\n",
       " 4036.133544921875,\n",
       " 4029.507080078125,\n",
       " 4023.284912109375,\n",
       " 4017.063720703125,\n",
       " 4011.066162109375,\n",
       " 4005.5966796875,\n",
       " 3999.91259765625,\n",
       " 3994.630859375,\n",
       " 3989.261474609375,\n",
       " 3983.6689453125,\n",
       " 3978.2646484375,\n",
       " 3972.964111328125,\n",
       " 3967.7451171875,\n",
       " 3962.15869140625,\n",
       " 3956.9775390625,\n",
       " 3951.828125,\n",
       " 3947.03369140625,\n",
       " 3942.546142578125,\n",
       " 3938.00439453125,\n",
       " 3933.47509765625,\n",
       " 3928.961181640625,\n",
       " 3924.57568359375,\n",
       " 3920.420654296875,\n",
       " 3916.2470703125,\n",
       " 3911.65869140625,\n",
       " 3907.297607421875,\n",
       " 3902.9111328125,\n",
       " 3898.552490234375,\n",
       " 3894.50927734375,\n",
       " 3890.573486328125,\n",
       " 3886.514892578125,\n",
       " 3882.7451171875,\n",
       " 3879.018798828125,\n",
       " 3875.4443359375,\n",
       " 3871.789794921875,\n",
       " 3868.162841796875,\n",
       " 3864.293701171875,\n",
       " 3860.457275390625,\n",
       " 3856.60009765625,\n",
       " 3853.1728515625,\n",
       " 3849.46337890625,\n",
       " 3845.989990234375,\n",
       " 3842.41650390625,\n",
       " 3839.103759765625,\n",
       " 3835.77099609375,\n",
       " 3832.415283203125,\n",
       " 3829.258056640625,\n",
       " 3826.120361328125,\n",
       " 3823.18994140625,\n",
       " 3820.301025390625,\n",
       " 3817.40478515625,\n",
       " 3814.398193359375,\n",
       " 3811.436767578125,\n",
       " 3808.3828125,\n",
       " 3805.5908203125,\n",
       " 3802.8515625,\n",
       " 3800.015869140625,\n",
       " 3797.227783203125,\n",
       " 3794.70849609375,\n",
       " 3792.100830078125,\n",
       " 3789.652587890625,\n",
       " 3787.171875,\n",
       " 3784.5458984375,\n",
       " 3781.9873046875,\n",
       " 3779.408447265625,\n",
       " 3776.954345703125,\n",
       " 3774.446533203125,\n",
       " 3772.2353515625,\n",
       " 3769.997802734375,\n",
       " 3767.733642578125,\n",
       " 3765.70751953125,\n",
       " 3763.507568359375,\n",
       " 3761.366455078125,\n",
       " 3759.21875,\n",
       " 3757.08935546875,\n",
       " 3754.939697265625,\n",
       " 3752.899658203125,\n",
       " 3750.89306640625,\n",
       " 3748.80126953125,\n",
       " 3746.8359375,\n",
       " 3744.819580078125,\n",
       " 3742.759765625,\n",
       " 3740.783447265625,\n",
       " 3738.810302734375,\n",
       " 3736.81787109375,\n",
       " 3734.8984375,\n",
       " 3732.944091796875,\n",
       " 3731.216796875,\n",
       " 3729.292724609375,\n",
       " 3727.4599609375,\n",
       " 3725.59814453125,\n",
       " 3723.84814453125,\n",
       " 3722.120361328125,\n",
       " 3720.45947265625,\n",
       " 3718.828125,\n",
       " 3717.163330078125,\n",
       " 3715.614990234375,\n",
       " 3713.945068359375,\n",
       " 3712.304443359375,\n",
       " 3710.5869140625,\n",
       " 3708.920654296875,\n",
       " 3707.33154296875,\n",
       " 3705.732177734375,\n",
       " 3704.184326171875,\n",
       " 3702.677490234375,\n",
       " 3701.178955078125,\n",
       " 3699.680908203125,\n",
       " 3698.177734375,\n",
       " 3696.66943359375,\n",
       " 3695.275634765625,\n",
       " 3693.798095703125,\n",
       " 3692.389892578125,\n",
       " 3690.928466796875,\n",
       " 3689.500244140625,\n",
       " 3688.123779296875,\n",
       " 3686.7939453125,\n",
       " 3685.454345703125]"
      ]
     },
     "execution_count": 14,
     "metadata": {},
     "output_type": "execute_result"
    }
   ],
   "source": [
    "model.history.history['loss']"
   ]
  },
  {
   "cell_type": "code",
   "execution_count": 15,
   "metadata": {},
   "outputs": [
    {
     "data": {
      "text/plain": [
       "[<matplotlib.lines.Line2D at 0x25229a27b00>]"
      ]
     },
     "execution_count": 15,
     "metadata": {},
     "output_type": "execute_result"
    },
    {
     "data": {
      "image/png": "[encoded data removed]",
      "text/plain": [
       "<Figure size 640x480 with 1 Axes>"
      ]
     },
     "metadata": {},
     "output_type": "display_data"
    }
   ],
   "source": [
    "loss = model.history.history['loss']\n",
    "epochs = range(len(loss))\n",
    "plt.plot(epochs, loss)"
   ]
  },
  {
   "cell_type": "code",
   "execution_count": 16,
   "metadata": {},
   "outputs": [],
   "source": [
    "x_for_predictions = np.linspace(0,50,100)"
   ]
  },
  {
   "cell_type": "code",
   "execution_count": 17,
   "metadata": {},
   "outputs": [
    {
     "name": "stdout",
     "output_type": "stream",
     "text": [
      "4/4 [==============================] - 0s 2ms/step\n"
     ]
    }
   ],
   "source": [
    "y_pred = model.predict(x_for_predictions)"
   ]
  },
  {
   "cell_type": "code",
   "execution_count": 18,
   "metadata": {},
   "outputs": [
    {
     "data": {
      "text/plain": [
       "[<matplotlib.lines.Line2D at 0x252288c29e8>]"
      ]
     },
     "execution_count": 18,
     "metadata": {},
     "output_type": "execute_result"
    },
    {
     "data": {
      "image/png": "[encoded data removed]",
      "text/plain": [
       "<Figure size 640x480 with 1 Axes>"
      ]
     },
     "metadata": {},
     "output_type": "display_data"
    }
   ],
   "source": [
    "plt.plot(x,y,'*')\n",
    "plt.plot(x_for_predictions, y_pred, 'r')"
   ]
  },
  {
   "cell_type": "code",
   "execution_count": 19,
   "metadata": {},
   "outputs": [],
   "source": [
    "from sklearn.metrics import mean_squared_error"
   ]
  },
  {
   "cell_type": "code",
   "execution_count": 20,
   "metadata": {},
   "outputs": [
    {
     "data": {
      "text/plain": [
       "3684.487499194036"
      ]
     },
     "execution_count": 20,
     "metadata": {},
     "output_type": "execute_result"
    }
   ],
   "source": [
    "mean_squared_error(y,y_pred)"
   ]
  },
  {
   "cell_type": "code",
   "execution_count": 21,
   "metadata": {},
   "outputs": [],
   "source": [
    "df = pd.read_csv('../Data/Alcohol_Sales.csv', index_col='DATE', parse_dates=True).asfreq('MS')"
   ]
  },
  {
   "cell_type": "code",
   "execution_count": 22,
   "metadata": {},
   "outputs": [
    {
     "data": {
      "text/html": [
       "<div>\n",
       "<style scoped>\n",
       "    .dataframe tbody tr th:only-of-type {\n",
       "        vertical-align: middle;\n",
       "    }\n",
       "\n",
       "    .dataframe tbody tr th {\n",
       "        vertical-align: top;\n",
       "    }\n",
       "\n",
       "    .dataframe thead th {\n",
       "        text-align: right;\n",
       "    }\n",
       "</style>\n",
       "<table border=\"1\" class=\"dataframe\">\n",
       "  <thead>\n",
       "    <tr style=\"text-align: right;\">\n",
       "      <th></th>\n",
       "      <th>S4248SM144NCEN</th>\n",
       "    </tr>\n",
       "    <tr>\n",
       "      <th>DATE</th>\n",
       "      <th></th>\n",
       "    </tr>\n",
       "  </thead>\n",
       "  <tbody>\n",
       "    <tr>\n",
       "      <th>1992-01-01</th>\n",
       "      <td>3459</td>\n",
       "    </tr>\n",
       "    <tr>\n",
       "      <th>1992-02-01</th>\n",
       "      <td>3458</td>\n",
       "    </tr>\n",
       "    <tr>\n",
       "      <th>1992-03-01</th>\n",
       "      <td>4002</td>\n",
       "    </tr>\n",
       "    <tr>\n",
       "      <th>1992-04-01</th>\n",
       "      <td>4564</td>\n",
       "    </tr>\n",
       "    <tr>\n",
       "      <th>1992-05-01</th>\n",
       "      <td>4221</td>\n",
       "    </tr>\n",
       "  </tbody>\n",
       "</table>\n",
       "</div>"
      ],
      "text/plain": [
       "            S4248SM144NCEN\n",
       "DATE                      \n",
       "1992-01-01            3459\n",
       "1992-02-01            3458\n",
       "1992-03-01            4002\n",
       "1992-04-01            4564\n",
       "1992-05-01            4221"
      ]
     },
     "execution_count": 22,
     "metadata": {},
     "output_type": "execute_result"
    }
   ],
   "source": [
    "df.head()"
   ]
  },
  {
   "cell_type": "code",
   "execution_count": 23,
   "metadata": {},
   "outputs": [],
   "source": [
    "df.columns = ['Sales']"
   ]
  },
  {
   "cell_type": "code",
   "execution_count": 24,
   "metadata": {},
   "outputs": [
    {
     "data": {
      "text/plain": [
       "Sales    int64\n",
       "dtype: object"
      ]
     },
     "execution_count": 24,
     "metadata": {},
     "output_type": "execute_result"
    }
   ],
   "source": [
    "df.dtypes"
   ]
  },
  {
   "cell_type": "code",
   "execution_count": 25,
   "metadata": {},
   "outputs": [
    {
     "data": {
      "text/plain": [
       "<AxesSubplot:xlabel='DATE'>"
      ]
     },
     "execution_count": 25,
     "metadata": {},
     "output_type": "execute_result"
    },
    {
     "data": {
      "image/png": "[encoded data removed]",
      "text/plain": [
       "<Figure size 640x480 with 1 Axes>"
      ]
     },
     "metadata": {},
     "output_type": "display_data"
    }
   ],
   "source": [
    "df['Sales'].plot()"
   ]
  },
  {
   "cell_type": "code",
   "execution_count": 26,
   "metadata": {},
   "outputs": [],
   "source": [
    "from statsmodels.tsa.seasonal import seasonal_decompose"
   ]
  },
  {
   "cell_type": "code",
   "execution_count": 27,
   "metadata": {},
   "outputs": [],
   "source": [
    "results = seasonal_decompose(df['Sales'])"
   ]
  },
  {
   "cell_type": "code",
   "execution_count": 28,
   "metadata": {},
   "outputs": [
    {
     "data": {
      "image/png": "[encoded data removed]",
      "text/plain": [
       "<Figure size 640x480 with 4 Axes>"
      ]
     },
     "metadata": {},
     "output_type": "display_data"
    }
   ],
   "source": [
    "results.plot();"
   ]
  },
  {
   "cell_type": "code",
   "execution_count": 29,
   "metadata": {},
   "outputs": [
    {
     "data": {
      "text/plain": [
       "325"
      ]
     },
     "execution_count": 29,
     "metadata": {},
     "output_type": "execute_result"
    }
   ],
   "source": [
    "len(df)"
   ]
  },
  {
   "cell_type": "code",
   "execution_count": 30,
   "metadata": {},
   "outputs": [],
   "source": [
    "train = df.iloc[:len(df)-12]\n",
    "test = df.iloc[len(df)-12:]"
   ]
  },
  {
   "cell_type": "markdown",
   "metadata": {},
   "source": [
    "Scale data = serve pra normalizar os dados em alguma escala, nesse caso, \n",
    "dividindo pelo dado com maior valor, assim fazendo com que tudo fique entre 0 e 1"
   ]
  },
  {
   "cell_type": "code",
   "execution_count": 31,
   "metadata": {},
   "outputs": [],
   "source": [
    "from sklearn.preprocessing import MinMaxScaler"
   ]
  },
  {
   "cell_type": "code",
   "execution_count": 32,
   "metadata": {},
   "outputs": [],
   "source": [
    "scaler = MinMaxScaler()"
   ]
  },
  {
   "cell_type": "code",
   "execution_count": 33,
   "metadata": {},
   "outputs": [
    {
     "data": {
      "text/plain": [
       "MinMaxScaler()"
      ]
     },
     "execution_count": 33,
     "metadata": {},
     "output_type": "execute_result"
    }
   ],
   "source": [
    "scaler.fit(train) # acha o maior valor do set"
   ]
  },
  {
   "cell_type": "code",
   "execution_count": 34,
   "metadata": {},
   "outputs": [],
   "source": [
    "scaled_train = scaler.transform(train)"
   ]
  },
  {
   "cell_type": "code",
   "execution_count": 35,
   "metadata": {},
   "outputs": [],
   "source": [
    "scaled_test = scaler.transform(test)"
   ]
  },
  {
   "cell_type": "code",
   "execution_count": 36,
   "metadata": {},
   "outputs": [],
   "source": [
    "from keras.preprocessing.sequence import TimeseriesGenerator"
   ]
  },
  {
   "cell_type": "code",
   "execution_count": 37,
   "metadata": {},
   "outputs": [
    {
     "data": {
      "text/plain": [
       "array([[0.03658432],\n",
       "       [0.03649885],\n",
       "       [0.08299855],\n",
       "       [0.13103684],\n",
       "       [0.1017181 ],\n",
       "       [0.12804513],\n",
       "       [0.12266006],\n",
       "       [0.09453799],\n",
       "       [0.09359774],\n",
       "       [0.10496624],\n",
       "       [0.10334217],\n",
       "       [0.16283443],\n",
       "       [0.        ],\n",
       "       [0.0196598 ],\n",
       "       [0.09650397],\n",
       "       [0.11505257],\n",
       "       [0.10906915],\n",
       "       [0.14231986],\n",
       "       [0.12197624],\n",
       "       [0.12189076],\n",
       "       [0.11394136],\n",
       "       [0.10300026],\n",
       "       [0.12556629],\n",
       "       [0.16608257],\n",
       "       [0.00376101],\n",
       "       [0.02957518],\n",
       "       [0.12069408],\n",
       "       [0.10513719],\n",
       "       [0.12214719],\n",
       "       [0.16702282],\n",
       "       [0.11052227],\n",
       "       [0.14428584],\n",
       "       [0.11479614],\n",
       "       [0.10402599],\n",
       "       [0.14984187],\n",
       "       [0.16582614],\n",
       "       [0.02897684],\n",
       "       [0.03872126],\n",
       "       [0.10582101],\n",
       "       [0.08231473],\n",
       "       [0.14394393],\n",
       "       [0.16608257],\n",
       "       [0.10188905],\n",
       "       [0.16830498],\n",
       "       [0.10291478],\n",
       "       [0.13018207],\n",
       "       [0.15556885],\n",
       "       [0.15343192],\n",
       "       [0.0570989 ],\n",
       "       [0.08137448],\n",
       "       [0.10522267],\n",
       "       [0.1357381 ],\n",
       "       [0.18702453],\n",
       "       [0.15428669],\n",
       "       [0.16326182],\n",
       "       [0.17360458],\n",
       "       [0.11402684],\n",
       "       [0.16933071],\n",
       "       [0.15548337],\n",
       "       [0.17659629],\n",
       "       [0.06214206],\n",
       "       [0.06786905],\n",
       "       [0.12163433],\n",
       "       [0.13710574],\n",
       "       [0.18625524],\n",
       "       [0.17317719],\n",
       "       [0.18805026],\n",
       "       [0.17121121],\n",
       "       [0.16574066],\n",
       "       [0.19753825],\n",
       "       [0.1538593 ],\n",
       "       [0.25079067],\n",
       "       [0.0653902 ],\n",
       "       [0.08445166],\n",
       "       [0.15958629],\n",
       "       [0.17599795],\n",
       "       [0.18856313],\n",
       "       [0.20651338],\n",
       "       [0.20548765],\n",
       "       [0.17745106],\n",
       "       [0.21232584],\n",
       "       [0.2181383 ],\n",
       "       [0.19788016],\n",
       "       [0.27822891],\n",
       "       [0.08556287],\n",
       "       [0.12001026],\n",
       "       [0.20924865],\n",
       "       [0.20959056],\n",
       "       [0.21848021],\n",
       "       [0.2688264 ],\n",
       "       [0.22138644],\n",
       "       [0.24429438],\n",
       "       [0.23908026],\n",
       "       [0.24087529],\n",
       "       [0.2691683 ],\n",
       "       [0.31968544],\n",
       "       [0.1035986 ],\n",
       "       [0.16420207],\n",
       "       [0.25446619],\n",
       "       [0.1984785 ],\n",
       "       [0.29096504],\n",
       "       [0.31130866],\n",
       "       [0.2226686 ],\n",
       "       [0.30763313],\n",
       "       [0.24412343],\n",
       "       [0.28130609],\n",
       "       [0.29823062],\n",
       "       [0.31173605],\n",
       "       [0.17531413],\n",
       "       [0.1867681 ],\n",
       "       [0.24463629],\n",
       "       [0.24472177],\n",
       "       [0.32207881],\n",
       "       [0.31079579],\n",
       "       [0.28575092],\n",
       "       [0.32558338],\n",
       "       [0.21745448],\n",
       "       [0.30036755],\n",
       "       [0.32122404],\n",
       "       [0.3546457 ],\n",
       "       [0.17830584],\n",
       "       [0.20608599],\n",
       "       [0.28258826],\n",
       "       [0.298658  ],\n",
       "       [0.35772288],\n",
       "       [0.31883067],\n",
       "       [0.33566972],\n",
       "       [0.34524318],\n",
       "       [0.26643303],\n",
       "       [0.33276348],\n",
       "       [0.31498419],\n",
       "       [0.42260022],\n",
       "       [0.19617061],\n",
       "       [0.22036071],\n",
       "       [0.28917001],\n",
       "       [0.31712112],\n",
       "       [0.35156851],\n",
       "       [0.35062826],\n",
       "       [0.38781092],\n",
       "       [0.36199675],\n",
       "       [0.30797504],\n",
       "       [0.39276861],\n",
       "       [0.32583982],\n",
       "       [0.47089495],\n",
       "       [0.22207026],\n",
       "       [0.24506368],\n",
       "       [0.34310625],\n",
       "       [0.34729464],\n",
       "       [0.36772374],\n",
       "       [0.41772801],\n",
       "       [0.36396273],\n",
       "       [0.37310881],\n",
       "       [0.36139841],\n",
       "       [0.36216771],\n",
       "       [0.40174374],\n",
       "       [0.51517224],\n",
       "       [0.21591589],\n",
       "       [0.27404052],\n",
       "       [0.40105992],\n",
       "       [0.36165484],\n",
       "       [0.44533721],\n",
       "       [0.48944354],\n",
       "       [0.36934781],\n",
       "       [0.46713394],\n",
       "       [0.40259851],\n",
       "       [0.39994871],\n",
       "       [0.44585007],\n",
       "       [0.50183776],\n",
       "       [0.25942388],\n",
       "       [0.30421404],\n",
       "       [0.4181554 ],\n",
       "       [0.36789469],\n",
       "       [0.4967946 ],\n",
       "       [0.53816566],\n",
       "       [0.40695786],\n",
       "       [0.52354902],\n",
       "       [0.42789982],\n",
       "       [0.47944269],\n",
       "       [0.52115565],\n",
       "       [0.55679973],\n",
       "       [0.3073767 ],\n",
       "       [0.31729208],\n",
       "       [0.44140525],\n",
       "       [0.41003505],\n",
       "       [0.55893666],\n",
       "       [0.55158561],\n",
       "       [0.47670741],\n",
       "       [0.55662877],\n",
       "       [0.43525088],\n",
       "       [0.56568938],\n",
       "       [0.54355073],\n",
       "       [0.60124797],\n",
       "       [0.34720916],\n",
       "       [0.38054535],\n",
       "       [0.4559364 ],\n",
       "       [0.50123942],\n",
       "       [0.5780836 ],\n",
       "       [0.59372596],\n",
       "       [0.55748355],\n",
       "       [0.54226857],\n",
       "       [0.52944696],\n",
       "       [0.59124712],\n",
       "       [0.48952902],\n",
       "       [0.66740747],\n",
       "       [0.36199675],\n",
       "       [0.3886657 ],\n",
       "       [0.4835456 ],\n",
       "       [0.52406189],\n",
       "       [0.54175571],\n",
       "       [0.60996666],\n",
       "       [0.55355159],\n",
       "       [0.50363279],\n",
       "       [0.5334644 ],\n",
       "       [0.51662535],\n",
       "       [0.5058552 ],\n",
       "       [0.66774938],\n",
       "       [0.30147876],\n",
       "       [0.38037439],\n",
       "       [0.55081631],\n",
       "       [0.54645696],\n",
       "       [0.54021711],\n",
       "       [0.64287546],\n",
       "       [0.51679631],\n",
       "       [0.53354988],\n",
       "       [0.54611505],\n",
       "       [0.54551671],\n",
       "       [0.58423797],\n",
       "       [0.72006154],\n",
       "       [0.3307975 ],\n",
       "       [0.42593384],\n",
       "       [0.58133174],\n",
       "       [0.5342337 ],\n",
       "       [0.59287119],\n",
       "       [0.71057355],\n",
       "       [0.51927515],\n",
       "       [0.63578084],\n",
       "       [0.60295752],\n",
       "       [0.56252671],\n",
       "       [0.62372852],\n",
       "       [0.72245491],\n",
       "       [0.38080178],\n",
       "       [0.47952816],\n",
       "       [0.57081802],\n",
       "       [0.54637148],\n",
       "       [0.7104026 ],\n",
       "       [0.70459014],\n",
       "       [0.58244294],\n",
       "       [0.69510215],\n",
       "       [0.55568852],\n",
       "       [0.66014189],\n",
       "       [0.67715189],\n",
       "       [0.75997949],\n",
       "       [0.45850073],\n",
       "       [0.50064108],\n",
       "       [0.60509445],\n",
       "       [0.63783229],\n",
       "       [0.78528079],\n",
       "       [0.71407813],\n",
       "       [0.69706813],\n",
       "       [0.72065989],\n",
       "       [0.63791777],\n",
       "       [0.72732712],\n",
       "       [0.69296521],\n",
       "       [0.82725019],\n",
       "       [0.47234806],\n",
       "       [0.51525771],\n",
       "       [0.6003932 ],\n",
       "       [0.67920335],\n",
       "       [0.74886742],\n",
       "       [0.75844089],\n",
       "       [0.67817762],\n",
       "       [0.67954526],\n",
       "       [0.66646722],\n",
       "       [0.75100436],\n",
       "       [0.63586631],\n",
       "       [0.8786221 ],\n",
       "       [0.45892811],\n",
       "       [0.51551415],\n",
       "       [0.65740662],\n",
       "       [0.69031541],\n",
       "       [0.72459185],\n",
       "       [0.84391828],\n",
       "       [0.75544918],\n",
       "       [0.70031627],\n",
       "       [0.76852722],\n",
       "       [0.76519361],\n",
       "       [0.72442089],\n",
       "       [0.95324387],\n",
       "       [0.48012651],\n",
       "       [0.62313018],\n",
       "       [0.7757928 ],\n",
       "       [0.71706984],\n",
       "       [0.78699034],\n",
       "       [0.91033422],\n",
       "       [0.67689546],\n",
       "       [0.8264809 ],\n",
       "       [0.78989657],\n",
       "       [0.75852637],\n",
       "       [0.85349175],\n",
       "       [0.97358749],\n",
       "       [0.51389008],\n",
       "       [0.63432772],\n",
       "       [0.80776135],\n",
       "       [0.72313873],\n",
       "       [0.89870929],\n",
       "       [1.        ],\n",
       "       [0.71672793],\n",
       "       [0.88648602],\n",
       "       [0.75869732],\n",
       "       [0.82742115],\n",
       "       [0.87443371],\n",
       "       [0.96025301],\n",
       "       [0.5584238 ]])"
      ]
     },
     "execution_count": 37,
     "metadata": {},
     "output_type": "execute_result"
    }
   ],
   "source": [
    "scaled_train"
   ]
  },
  {
   "cell_type": "code",
   "execution_count": 38,
   "metadata": {},
   "outputs": [
    {
     "ename": "ValueError",
     "evalue": "Data and targets have to be of same length. Data length is 313 while target length is 12",
     "output_type": "error",
     "traceback": [
      "\u001b[1;31m---------------------------------------------------------------------------\u001b[0m",
      "\u001b[1;31mValueError\u001b[0m                                Traceback (most recent call last)",
      "\u001b[1;32m~\\AppData\\Local\\Temp\\ipykernel_6572\\282180915.py\u001b[0m in \u001b[0;36m<module>\u001b[1;34m\u001b[0m\n\u001b[0;32m      1\u001b[0m \u001b[0mn_input\u001b[0m \u001b[1;33m=\u001b[0m \u001b[1;36m2\u001b[0m\u001b[1;33m\u001b[0m\u001b[1;33m\u001b[0m\u001b[0m\n\u001b[0;32m      2\u001b[0m \u001b[0mn_features\u001b[0m \u001b[1;33m=\u001b[0m \u001b[1;36m1\u001b[0m\u001b[1;33m\u001b[0m\u001b[1;33m\u001b[0m\u001b[0m\n\u001b[1;32m----> 3\u001b[1;33m \u001b[0mgenerator\u001b[0m \u001b[1;33m=\u001b[0m \u001b[0mTimeseriesGenerator\u001b[0m\u001b[1;33m(\u001b[0m\u001b[0mscaled_train\u001b[0m\u001b[1;33m,\u001b[0m \u001b[0mscaled_test\u001b[0m\u001b[1;33m,\u001b[0m \u001b[0mlength\u001b[0m\u001b[1;33m=\u001b[0m\u001b[0mn_input\u001b[0m\u001b[1;33m,\u001b[0m \u001b[0mbatch_size\u001b[0m\u001b[1;33m=\u001b[0m\u001b[1;36m1\u001b[0m\u001b[1;33m)\u001b[0m\u001b[1;33m\u001b[0m\u001b[1;33m\u001b[0m\u001b[0m\n\u001b[0m",
      "\u001b[1;32md:\\Anaconda\\Anaconda_Instalado\\envs\\tsa_course\\lib\\site-packages\\keras\\preprocessing\\sequence.py\u001b[0m in \u001b[0;36m__init__\u001b[1;34m(self, data, targets, length, sampling_rate, stride, start_index, end_index, shuffle, reverse, batch_size)\u001b[0m\n\u001b[0;32m    139\u001b[0m                 \u001b[1;34m\"Data and targets have to be\"\u001b[0m \u001b[1;33m+\u001b[0m \u001b[1;34m\" of same length. \"\u001b[0m\u001b[1;33m\u001b[0m\u001b[1;33m\u001b[0m\u001b[0m\n\u001b[0;32m    140\u001b[0m                 \u001b[1;34m\"Data length is {}\"\u001b[0m\u001b[1;33m.\u001b[0m\u001b[0mformat\u001b[0m\u001b[1;33m(\u001b[0m\u001b[0mlen\u001b[0m\u001b[1;33m(\u001b[0m\u001b[0mdata\u001b[0m\u001b[1;33m)\u001b[0m\u001b[1;33m)\u001b[0m\u001b[1;33m\u001b[0m\u001b[1;33m\u001b[0m\u001b[0m\n\u001b[1;32m--> 141\u001b[1;33m                 \u001b[1;33m+\u001b[0m \u001b[1;34m\" while target length is {}\"\u001b[0m\u001b[1;33m.\u001b[0m\u001b[0mformat\u001b[0m\u001b[1;33m(\u001b[0m\u001b[0mlen\u001b[0m\u001b[1;33m(\u001b[0m\u001b[0mtargets\u001b[0m\u001b[1;33m)\u001b[0m\u001b[1;33m)\u001b[0m\u001b[1;33m\u001b[0m\u001b[1;33m\u001b[0m\u001b[0m\n\u001b[0m\u001b[0;32m    142\u001b[0m             )\n\u001b[0;32m    143\u001b[0m \u001b[1;33m\u001b[0m\u001b[0m\n",
      "\u001b[1;31mValueError\u001b[0m: Data and targets have to be of same length. Data length is 313 while target length is 12"
     ]
    }
   ],
   "source": [
    "n_input = 2\n",
    "n_features = 1\n",
    "generator = TimeseriesGenerator(scaled_train, scaled_test, length=n_input, batch_size=1)"
   ]
  },
  {
   "cell_type": "code",
   "execution_count": null,
   "metadata": {},
   "outputs": [],
   "source": []
  }
 ],
 "metadata": {
  "kernelspec": {
   "display_name": "Python 3.7.2 ('tsa_course')",
   "language": "python",
   "name": "python3"
  },
  "language_info": {
   "codemirror_mode": {
    "name": "ipython",
    "version": 3
   },
   "file_extension": ".py",
   "mimetype": "text/x-python",
   "name": "python",
   "nbconvert_exporter": "python",
   "pygments_lexer": "ipython3",
   "version": "3.7.2"
  },
  "orig_nbformat": 4,
  "vscode": {
   "interpreter": {
    "hash": "d2f39fc02faa614b49a3cc03fd19e16795bddfb0a3e44049f26875ce8909f596"
   }
  }
 },
 "nbformat": 4,
 "nbformat_minor": 2
}
